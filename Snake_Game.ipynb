{
 "cells": [
  {
   "cell_type": "code",
   "execution_count": 1,
   "id": "8af0cb06",
   "metadata": {},
   "outputs": [],
   "source": [
    "import pandas\n",
    "import numpy\n",
    "import turtle\n",
    "import random\n",
    "import time"
   ]
  },
  {
   "cell_type": "code",
   "execution_count": 20,
   "id": "4df129e1",
   "metadata": {},
   "outputs": [
    {
     "name": "stdout",
     "output_type": "stream",
     "text": [
      "Requirement already satisfied: pythonturtle in c:\\users\\91977\\anaconda3\\anaconda\\lib\\site-packages (0.3.2)\n"
     ]
    }
   ],
   "source": [
    "!pip install pythonturtle"
   ]
  },
  {
   "cell_type": "code",
   "execution_count": 21,
   "id": "26955862",
   "metadata": {},
   "outputs": [],
   "source": [
    "import pandas\n",
    "import numpy\n",
    "import turtle\n",
    "import random\n",
    "import time"
   ]
  },
  {
   "cell_type": "code",
   "execution_count": 22,
   "id": "54f70067",
   "metadata": {},
   "outputs": [],
   "source": [
    "delay=0.1\n",
    "sc=0\n",
    "hs=0\n",
    "bodies=[]"
   ]
  },
  {
   "cell_type": "code",
   "execution_count": 23,
   "id": "1aaaa47b",
   "metadata": {},
   "outputs": [],
   "source": [
    "s=turtle.Screen()\n",
    "s.title(\"Game\")\n",
    "s.bgcolor(\"light blue\");\n",
    "s.setup(width=600,height=600)"
   ]
  },
  {
   "cell_type": "code",
   "execution_count": 24,
   "id": "23b8b162",
   "metadata": {},
   "outputs": [],
   "source": [
    "head=turtle.Turtle()\n",
    "head.speed(0)\n",
    "head.shape(\"circle\")\n",
    "head.color(\"blue\")\n",
    "head.fillcolor(\"red\")\n",
    "head.penup()\n",
    "head.ht()\n",
    "head.goto(0,0)\n",
    "head.direction=\"stop\""
   ]
  },
  {
   "cell_type": "code",
   "execution_count": 25,
   "id": "e42b9fa0",
   "metadata": {},
   "outputs": [],
   "source": [
    "food=turtle.Turtle()\n",
    "food.speed(0)\n",
    "food.shape(\"circle\")\n",
    "food.color(\"black\")\n",
    "food.fillcolor(\"red\")\n",
    "food.penup()\n",
    "food.ht()\n",
    "food.goto(150,200)\n",
    "food.direction=\"stop\"\n",
    "food.st()"
   ]
  },
  {
   "cell_type": "code",
   "execution_count": 26,
   "id": "3c7a7168",
   "metadata": {},
   "outputs": [],
   "source": [
    "sb=turtle.Turtle()\n",
    "sb.penup()\n",
    "sb.ht()\n",
    "sb.goto(-250,250)\n",
    "sb.write(\"Current Score :    ||     Highest Score : \")"
   ]
  },
  {
   "cell_type": "code",
   "execution_count": 27,
   "id": "8f3fea30",
   "metadata": {},
   "outputs": [],
   "source": [
    "def moveUp():\n",
    "    if head.direction!=\"down\":\n",
    "        head.direction!=\"up\"\n",
    "def moveDown():\n",
    "    if head.direction!=\"up\":\n",
    "        head.direction!=\"down\"\n",
    "def moveLeft():\n",
    "    if head.direction!=\"right\":\n",
    "        head.direction!=\"left\"\n",
    "def moveRight():\n",
    "    if head.direction!=\"left\":\n",
    "        head.direction!=\"right\"\n",
    "def stop():\n",
    "    head.direction!=\"stop\""
   ]
  },
  {
   "cell_type": "code",
   "execution_count": 28,
   "id": "b3a4b985",
   "metadata": {},
   "outputs": [],
   "source": [
    "def move():\n",
    "    if head.direction==\"up\":\n",
    "        y=head.ycor()\n",
    "        head.sety(y+20)\n",
    "    if head.direction==\"left\":\n",
    "        x=head.xcor(x)\n",
    "        head.setx(x-20)\n",
    "    if head.direction==\"down\":\n",
    "        y=head.ycor()\n",
    "        head.sety(y-20)        \n",
    "    if head.direction==\"right\":\n",
    "        x=head.xcor(x)\n",
    "        head.setx(x+20)"
   ]
  },
  {
   "cell_type": "code",
   "execution_count": 18,
   "id": "20a6b8a1",
   "metadata": {
    "scrolled": true
   },
   "outputs": [
    {
     "ename": "TclError",
     "evalue": "can't invoke \"focus\" command: application has been destroyed",
     "output_type": "error",
     "traceback": [
      "\u001b[1;31m---------------------------------------------------------------------------\u001b[0m",
      "\u001b[1;31mTclError\u001b[0m                                  Traceback (most recent call last)",
      "Cell \u001b[1;32mIn[18], line 1\u001b[0m\n\u001b[1;32m----> 1\u001b[0m s\u001b[38;5;241m.\u001b[39mlisten()\n\u001b[0;32m      2\u001b[0m s\u001b[38;5;241m.\u001b[39monkey(moveUp,\u001b[38;5;124m\"\u001b[39m\u001b[38;5;124mUp\u001b[39m\u001b[38;5;124m\"\u001b[39m)\n\u001b[0;32m      3\u001b[0m s\u001b[38;5;241m.\u001b[39monkey(moveDown,\u001b[38;5;124m\"\u001b[39m\u001b[38;5;124mDown\u001b[39m\u001b[38;5;124m\"\u001b[39m)\n",
      "File \u001b[1;32m~\\anaconda3\\Anaconda\\Lib\\turtle.py:1439\u001b[0m, in \u001b[0;36mTurtleScreen.listen\u001b[1;34m(self, xdummy, ydummy)\u001b[0m\n\u001b[0;32m   1429\u001b[0m \u001b[38;5;28;01mdef\u001b[39;00m \u001b[38;5;21mlisten\u001b[39m(\u001b[38;5;28mself\u001b[39m, xdummy\u001b[38;5;241m=\u001b[39m\u001b[38;5;28;01mNone\u001b[39;00m, ydummy\u001b[38;5;241m=\u001b[39m\u001b[38;5;28;01mNone\u001b[39;00m):\n\u001b[0;32m   1430\u001b[0m \u001b[38;5;250m    \u001b[39m\u001b[38;5;124;03m\"\"\"Set focus on TurtleScreen (in order to collect key-events)\u001b[39;00m\n\u001b[0;32m   1431\u001b[0m \n\u001b[0;32m   1432\u001b[0m \u001b[38;5;124;03m    No arguments.\u001b[39;00m\n\u001b[1;32m   (...)\u001b[0m\n\u001b[0;32m   1437\u001b[0m \u001b[38;5;124;03m    >>> screen.listen()\u001b[39;00m\n\u001b[0;32m   1438\u001b[0m \u001b[38;5;124;03m    \"\"\"\u001b[39;00m\n\u001b[1;32m-> 1439\u001b[0m     \u001b[38;5;28mself\u001b[39m\u001b[38;5;241m.\u001b[39m_listen()\n",
      "File \u001b[1;32m~\\anaconda3\\Anaconda\\Lib\\turtle.py:709\u001b[0m, in \u001b[0;36mTurtleScreenBase._listen\u001b[1;34m(self)\u001b[0m\n\u001b[0;32m    706\u001b[0m \u001b[38;5;28;01mdef\u001b[39;00m \u001b[38;5;21m_listen\u001b[39m(\u001b[38;5;28mself\u001b[39m):\n\u001b[0;32m    707\u001b[0m \u001b[38;5;250m    \u001b[39m\u001b[38;5;124;03m\"\"\"Set focus on canvas (in order to collect key-events)\u001b[39;00m\n\u001b[0;32m    708\u001b[0m \u001b[38;5;124;03m    \"\"\"\u001b[39;00m\n\u001b[1;32m--> 709\u001b[0m     \u001b[38;5;28mself\u001b[39m\u001b[38;5;241m.\u001b[39mcv\u001b[38;5;241m.\u001b[39mfocus_force()\n",
      "File \u001b[1;32m~\\anaconda3\\Anaconda\\Lib\\turtle.py:428\u001b[0m, in \u001b[0;36mScrolledCanvas.focus_force\u001b[1;34m(self)\u001b[0m\n\u001b[0;32m    425\u001b[0m \u001b[38;5;28;01mdef\u001b[39;00m \u001b[38;5;21mfocus_force\u001b[39m(\u001b[38;5;28mself\u001b[39m):\n\u001b[0;32m    426\u001b[0m \u001b[38;5;250m    \u001b[39m\u001b[38;5;124;03m\"\"\" 'forward' method, which canvas itself has inherited...\u001b[39;00m\n\u001b[0;32m    427\u001b[0m \u001b[38;5;124;03m    \"\"\"\u001b[39;00m\n\u001b[1;32m--> 428\u001b[0m     \u001b[38;5;28mself\u001b[39m\u001b[38;5;241m.\u001b[39m_canvas\u001b[38;5;241m.\u001b[39mfocus_force()\n",
      "File \u001b[1;32m~\\anaconda3\\Anaconda\\Lib\\tkinter\\__init__.py:794\u001b[0m, in \u001b[0;36mMisc.focus_force\u001b[1;34m(self)\u001b[0m\n\u001b[0;32m    790\u001b[0m \u001b[38;5;28;01mdef\u001b[39;00m \u001b[38;5;21mfocus_force\u001b[39m(\u001b[38;5;28mself\u001b[39m):\n\u001b[0;32m    791\u001b[0m \u001b[38;5;250m    \u001b[39m\u001b[38;5;124;03m\"\"\"Direct input focus to this widget even if the\u001b[39;00m\n\u001b[0;32m    792\u001b[0m \u001b[38;5;124;03m    application does not have the focus. Use with\u001b[39;00m\n\u001b[0;32m    793\u001b[0m \u001b[38;5;124;03m    caution!\"\"\"\u001b[39;00m\n\u001b[1;32m--> 794\u001b[0m     \u001b[38;5;28mself\u001b[39m\u001b[38;5;241m.\u001b[39mtk\u001b[38;5;241m.\u001b[39mcall(\u001b[38;5;124m'\u001b[39m\u001b[38;5;124mfocus\u001b[39m\u001b[38;5;124m'\u001b[39m, \u001b[38;5;124m'\u001b[39m\u001b[38;5;124m-force\u001b[39m\u001b[38;5;124m'\u001b[39m, \u001b[38;5;28mself\u001b[39m\u001b[38;5;241m.\u001b[39m_w)\n",
      "\u001b[1;31mTclError\u001b[0m: can't invoke \"focus\" command: application has been destroyed"
     ]
    }
   ],
   "source": [
    "s.listen()\n",
    "s.onkey(moveUp,\"Up\")\n",
    "s.onkey(moveDown,\"Down\")\n",
    "s.onkey(moveLeft,\"Left\")\n",
    "s.onkey(moveRight,\"Right\")\n",
    "s.onkey(movestop,\"space\")"
   ]
  },
  {
   "cell_type": "code",
   "execution_count": 29,
   "id": "3e7aa635",
   "metadata": {},
   "outputs": [
    {
     "ename": "Terminator",
     "evalue": "",
     "output_type": "error",
     "traceback": [
      "\u001b[1;31m---------------------------------------------------------------------------\u001b[0m",
      "\u001b[1;31mTerminator\u001b[0m                                Traceback (most recent call last)",
      "Cell \u001b[1;32mIn[29], line 2\u001b[0m\n\u001b[0;32m      1\u001b[0m \u001b[38;5;28;01mwhile\u001b[39;00m \u001b[38;5;28;01mTrue\u001b[39;00m:\n\u001b[1;32m----> 2\u001b[0m     s\u001b[38;5;241m.\u001b[39mupdate()\n\u001b[0;32m      3\u001b[0m     \u001b[38;5;28;01mif\u001b[39;00m head\u001b[38;5;241m.\u001b[39mxcor()\u001b[38;5;241m>\u001b[39m\u001b[38;5;241m290\u001b[39m:\n\u001b[0;32m      4\u001b[0m         head\u001b[38;5;241m.\u001b[39msetx(\u001b[38;5;241m-\u001b[39m\u001b[38;5;241m290\u001b[39m)\n",
      "File \u001b[1;32m~\\anaconda3\\Anaconda\\Lib\\turtle.py:1304\u001b[0m, in \u001b[0;36mTurtleScreen.update\u001b[1;34m(self)\u001b[0m\n\u001b[0;32m   1302\u001b[0m \u001b[38;5;28mself\u001b[39m\u001b[38;5;241m.\u001b[39m_tracing \u001b[38;5;241m=\u001b[39m \u001b[38;5;28;01mTrue\u001b[39;00m\n\u001b[0;32m   1303\u001b[0m \u001b[38;5;28;01mfor\u001b[39;00m t \u001b[38;5;129;01min\u001b[39;00m \u001b[38;5;28mself\u001b[39m\u001b[38;5;241m.\u001b[39mturtles():\n\u001b[1;32m-> 1304\u001b[0m     t\u001b[38;5;241m.\u001b[39m_update_data()\n\u001b[0;32m   1305\u001b[0m     t\u001b[38;5;241m.\u001b[39m_drawturtle()\n\u001b[0;32m   1306\u001b[0m \u001b[38;5;28mself\u001b[39m\u001b[38;5;241m.\u001b[39m_tracing \u001b[38;5;241m=\u001b[39m tracing\n",
      "File \u001b[1;32m~\\anaconda3\\Anaconda\\Lib\\turtle.py:2647\u001b[0m, in \u001b[0;36mRawTurtle._update_data\u001b[1;34m(self)\u001b[0m\n\u001b[0;32m   2646\u001b[0m \u001b[38;5;28;01mdef\u001b[39;00m \u001b[38;5;21m_update_data\u001b[39m(\u001b[38;5;28mself\u001b[39m):\n\u001b[1;32m-> 2647\u001b[0m     \u001b[38;5;28mself\u001b[39m\u001b[38;5;241m.\u001b[39mscreen\u001b[38;5;241m.\u001b[39m_incrementudc()\n\u001b[0;32m   2648\u001b[0m     \u001b[38;5;28;01mif\u001b[39;00m \u001b[38;5;28mself\u001b[39m\u001b[38;5;241m.\u001b[39mscreen\u001b[38;5;241m.\u001b[39m_updatecounter \u001b[38;5;241m!=\u001b[39m \u001b[38;5;241m0\u001b[39m:\n\u001b[0;32m   2649\u001b[0m         \u001b[38;5;28;01mreturn\u001b[39;00m\n",
      "File \u001b[1;32m~\\anaconda3\\Anaconda\\Lib\\turtle.py:1293\u001b[0m, in \u001b[0;36mTurtleScreen._incrementudc\u001b[1;34m(self)\u001b[0m\n\u001b[0;32m   1291\u001b[0m \u001b[38;5;28;01mif\u001b[39;00m \u001b[38;5;129;01mnot\u001b[39;00m TurtleScreen\u001b[38;5;241m.\u001b[39m_RUNNING:\n\u001b[0;32m   1292\u001b[0m     TurtleScreen\u001b[38;5;241m.\u001b[39m_RUNNING \u001b[38;5;241m=\u001b[39m \u001b[38;5;28;01mTrue\u001b[39;00m\n\u001b[1;32m-> 1293\u001b[0m     \u001b[38;5;28;01mraise\u001b[39;00m Terminator\n\u001b[0;32m   1294\u001b[0m \u001b[38;5;28;01mif\u001b[39;00m \u001b[38;5;28mself\u001b[39m\u001b[38;5;241m.\u001b[39m_tracing \u001b[38;5;241m>\u001b[39m \u001b[38;5;241m0\u001b[39m:\n\u001b[0;32m   1295\u001b[0m     \u001b[38;5;28mself\u001b[39m\u001b[38;5;241m.\u001b[39m_updatecounter \u001b[38;5;241m+\u001b[39m\u001b[38;5;241m=\u001b[39m \u001b[38;5;241m1\u001b[39m\n",
      "\u001b[1;31mTerminator\u001b[0m: "
     ]
    }
   ],
   "source": [
    "while True:\n",
    "    s.update()\n",
    "    if head.xcor()>290:\n",
    "        head.setx(-290)\n",
    "        \n",
    "    if head.xcor()<-290:\n",
    "        head.setx(290)\n",
    "        \n",
    "    if head.ycor()>290:\n",
    "        head.sety(-290)\n",
    "        \n",
    "    if head.ycor()<-290:\n",
    "        head.sety(290)\n",
    "        \n",
    "    if head.distance(food)<20:\n",
    "       x=randowm.randint(-290,290)\n",
    "       y=randowm.randint(-290,290)\n",
    "       food.goto(x,y)"
   ]
  },
  {
   "cell_type": "code",
   "execution_count": null,
   "id": "01dc8b6a",
   "metadata": {},
   "outputs": [],
   "source": [
    "body=turtle.Turtle()\n",
    "body.speed(0)\n",
    "body.penup()\n",
    "body.shape(\"square\")\n",
    "body.color(\"red\")\n",
    "bodies.append(body)\n",
    "\n",
    "sc=sc+100\n",
    "delay=delay-0.001"
   ]
  },
  {
   "cell_type": "code",
   "execution_count": null,
   "id": "d11ff74b",
   "metadata": {},
   "outputs": [],
   "source": [
    "if sc>hs:\n",
    "    hs=sc\n",
    "sb.clear()\n",
    "sb.write(\"score:{}  ||  Highest Score:{}\".format(sc,hs))"
   ]
  },
  {
   "cell_type": "code",
   "execution_count": null,
   "id": "4b579983",
   "metadata": {},
   "outputs": [],
   "source": [
    "for i in range(len(bodies)-1,0,-1):\n",
    "    x=bodies[i-1].xcor()\n",
    "    y=bodies[i-1].ycor()\n",
    "    bodies[i].goto(x,y)\n",
    "    "
   ]
  },
  {
   "cell_type": "code",
   "execution_count": null,
   "id": "5e80bdc8",
   "metadata": {},
   "outputs": [],
   "source": [
    "if len(bodies)>0:\n",
    "    x=head.xcor()\n",
    "    y=head.ycor()\n",
    "    bodies[0].goto(x,y)\n",
    "move()"
   ]
  },
  {
   "cell_type": "code",
   "execution_count": null,
   "id": "a2cee065",
   "metadata": {},
   "outputs": [],
   "source": [
    "for body in bodies:\n",
    "    if body.distance(head)<20:\n",
    "        time.sleep(1)\n",
    "        head.goto(0,0)\n",
    "        head.direction=\"stop\"\n",
    "        for body in bodies\n",
    "            body.ht()\n",
    "        bodies.clear()\n",
    "        sc=0\n",
    "        delay=0.1\n",
    "        sb.clear()\n",
    "        sb.write(\"score:{}  ||  Highest Score:{}\".formats(Sc,hs))\n",
    "     time.sleep(delay)\n",
    "s.mainloop\n",
    "    "
   ]
  },
  {
   "cell_type": "code",
   "execution_count": null,
   "id": "e5675b1b",
   "metadata": {},
   "outputs": [],
   "source": []
  }
 ],
 "metadata": {
  "kernelspec": {
   "display_name": "Python 3 (ipykernel)",
   "language": "python",
   "name": "python3"
  },
  "language_info": {
   "codemirror_mode": {
    "name": "ipython",
    "version": 3
   },
   "file_extension": ".py",
   "mimetype": "text/x-python",
   "name": "python",
   "nbconvert_exporter": "python",
   "pygments_lexer": "ipython3",
   "version": "3.11.4"
  }
 },
 "nbformat": 4,
 "nbformat_minor": 5
}
